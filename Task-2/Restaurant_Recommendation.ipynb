{
 "cells": [
  {
   "cell_type": "code",
   "execution_count": 24,
   "id": "a2f04222",
   "metadata": {
    "ExecuteTime": {
     "end_time": "2025-08-22T07:25:06.658719Z",
     "start_time": "2025-08-22T07:25:06.651357Z"
    }
   },
   "outputs": [],
   "source": [
    "#Importing Libraries\n",
    "import pandas as pd\n",
    "import numpy as np\n",
    "import warnings\n",
    "warnings.filterwarnings('ignore',category=FutureWarning)\n"
   ]
  },
  {
   "cell_type": "code",
   "execution_count": 25,
   "id": "da953260cf4d3d48",
   "metadata": {
    "ExecuteTime": {
     "end_time": "2025-08-22T07:25:09.973299Z",
     "start_time": "2025-08-22T07:25:09.829808Z"
    }
   },
   "outputs": [
    {
     "data": {
      "text/html": [
       "<div>\n",
       "<style scoped>\n",
       "    .dataframe tbody tr th:only-of-type {\n",
       "        vertical-align: middle;\n",
       "    }\n",
       "\n",
       "    .dataframe tbody tr th {\n",
       "        vertical-align: top;\n",
       "    }\n",
       "\n",
       "    .dataframe thead th {\n",
       "        text-align: right;\n",
       "    }\n",
       "</style>\n",
       "<table border=\"1\" class=\"dataframe\">\n",
       "  <thead>\n",
       "    <tr style=\"text-align: right;\">\n",
       "      <th></th>\n",
       "      <th>Restaurant ID</th>\n",
       "      <th>Restaurant Name</th>\n",
       "      <th>Country Code</th>\n",
       "      <th>City</th>\n",
       "      <th>Address</th>\n",
       "      <th>Locality</th>\n",
       "      <th>Locality Verbose</th>\n",
       "      <th>Longitude</th>\n",
       "      <th>Latitude</th>\n",
       "      <th>Cuisines</th>\n",
       "      <th>...</th>\n",
       "      <th>Currency</th>\n",
       "      <th>Has Table booking</th>\n",
       "      <th>Has Online delivery</th>\n",
       "      <th>Is delivering now</th>\n",
       "      <th>Switch to order menu</th>\n",
       "      <th>Price range</th>\n",
       "      <th>Aggregate rating</th>\n",
       "      <th>Rating color</th>\n",
       "      <th>Rating text</th>\n",
       "      <th>Votes</th>\n",
       "    </tr>\n",
       "  </thead>\n",
       "  <tbody>\n",
       "    <tr>\n",
       "      <th>0</th>\n",
       "      <td>6317637</td>\n",
       "      <td>Le Petit Souffle</td>\n",
       "      <td>162</td>\n",
       "      <td>Makati City</td>\n",
       "      <td>Third Floor, Century City Mall, Kalayaan Avenu...</td>\n",
       "      <td>Century City Mall, Poblacion, Makati City</td>\n",
       "      <td>Century City Mall, Poblacion, Makati City, Mak...</td>\n",
       "      <td>121.027535</td>\n",
       "      <td>14.565443</td>\n",
       "      <td>French, Japanese, Desserts</td>\n",
       "      <td>...</td>\n",
       "      <td>Botswana Pula(P)</td>\n",
       "      <td>Yes</td>\n",
       "      <td>No</td>\n",
       "      <td>No</td>\n",
       "      <td>No</td>\n",
       "      <td>3</td>\n",
       "      <td>4.8</td>\n",
       "      <td>Dark Green</td>\n",
       "      <td>Excellent</td>\n",
       "      <td>314</td>\n",
       "    </tr>\n",
       "    <tr>\n",
       "      <th>1</th>\n",
       "      <td>6304287</td>\n",
       "      <td>Izakaya Kikufuji</td>\n",
       "      <td>162</td>\n",
       "      <td>Makati City</td>\n",
       "      <td>Little Tokyo, 2277 Chino Roces Avenue, Legaspi...</td>\n",
       "      <td>Little Tokyo, Legaspi Village, Makati City</td>\n",
       "      <td>Little Tokyo, Legaspi Village, Makati City, Ma...</td>\n",
       "      <td>121.014101</td>\n",
       "      <td>14.553708</td>\n",
       "      <td>Japanese</td>\n",
       "      <td>...</td>\n",
       "      <td>Botswana Pula(P)</td>\n",
       "      <td>Yes</td>\n",
       "      <td>No</td>\n",
       "      <td>No</td>\n",
       "      <td>No</td>\n",
       "      <td>3</td>\n",
       "      <td>4.5</td>\n",
       "      <td>Dark Green</td>\n",
       "      <td>Excellent</td>\n",
       "      <td>591</td>\n",
       "    </tr>\n",
       "    <tr>\n",
       "      <th>2</th>\n",
       "      <td>6300002</td>\n",
       "      <td>Heat - Edsa Shangri-La</td>\n",
       "      <td>162</td>\n",
       "      <td>Mandaluyong City</td>\n",
       "      <td>Edsa Shangri-La, 1 Garden Way, Ortigas, Mandal...</td>\n",
       "      <td>Edsa Shangri-La, Ortigas, Mandaluyong City</td>\n",
       "      <td>Edsa Shangri-La, Ortigas, Mandaluyong City, Ma...</td>\n",
       "      <td>121.056831</td>\n",
       "      <td>14.581404</td>\n",
       "      <td>Seafood, Asian, Filipino, Indian</td>\n",
       "      <td>...</td>\n",
       "      <td>Botswana Pula(P)</td>\n",
       "      <td>Yes</td>\n",
       "      <td>No</td>\n",
       "      <td>No</td>\n",
       "      <td>No</td>\n",
       "      <td>4</td>\n",
       "      <td>4.4</td>\n",
       "      <td>Green</td>\n",
       "      <td>Very Good</td>\n",
       "      <td>270</td>\n",
       "    </tr>\n",
       "    <tr>\n",
       "      <th>3</th>\n",
       "      <td>6318506</td>\n",
       "      <td>Ooma</td>\n",
       "      <td>162</td>\n",
       "      <td>Mandaluyong City</td>\n",
       "      <td>Third Floor, Mega Fashion Hall, SM Megamall, O...</td>\n",
       "      <td>SM Megamall, Ortigas, Mandaluyong City</td>\n",
       "      <td>SM Megamall, Ortigas, Mandaluyong City, Mandal...</td>\n",
       "      <td>121.056475</td>\n",
       "      <td>14.585318</td>\n",
       "      <td>Japanese, Sushi</td>\n",
       "      <td>...</td>\n",
       "      <td>Botswana Pula(P)</td>\n",
       "      <td>No</td>\n",
       "      <td>No</td>\n",
       "      <td>No</td>\n",
       "      <td>No</td>\n",
       "      <td>4</td>\n",
       "      <td>4.9</td>\n",
       "      <td>Dark Green</td>\n",
       "      <td>Excellent</td>\n",
       "      <td>365</td>\n",
       "    </tr>\n",
       "    <tr>\n",
       "      <th>4</th>\n",
       "      <td>6314302</td>\n",
       "      <td>Sambo Kojin</td>\n",
       "      <td>162</td>\n",
       "      <td>Mandaluyong City</td>\n",
       "      <td>Third Floor, Mega Atrium, SM Megamall, Ortigas...</td>\n",
       "      <td>SM Megamall, Ortigas, Mandaluyong City</td>\n",
       "      <td>SM Megamall, Ortigas, Mandaluyong City, Mandal...</td>\n",
       "      <td>121.057508</td>\n",
       "      <td>14.584450</td>\n",
       "      <td>Japanese, Korean</td>\n",
       "      <td>...</td>\n",
       "      <td>Botswana Pula(P)</td>\n",
       "      <td>Yes</td>\n",
       "      <td>No</td>\n",
       "      <td>No</td>\n",
       "      <td>No</td>\n",
       "      <td>4</td>\n",
       "      <td>4.8</td>\n",
       "      <td>Dark Green</td>\n",
       "      <td>Excellent</td>\n",
       "      <td>229</td>\n",
       "    </tr>\n",
       "  </tbody>\n",
       "</table>\n",
       "<p>5 rows × 21 columns</p>\n",
       "</div>"
      ],
      "text/plain": [
       "   Restaurant ID         Restaurant Name  Country Code              City  \\\n",
       "0        6317637        Le Petit Souffle           162       Makati City   \n",
       "1        6304287        Izakaya Kikufuji           162       Makati City   \n",
       "2        6300002  Heat - Edsa Shangri-La           162  Mandaluyong City   \n",
       "3        6318506                    Ooma           162  Mandaluyong City   \n",
       "4        6314302             Sambo Kojin           162  Mandaluyong City   \n",
       "\n",
       "                                             Address  \\\n",
       "0  Third Floor, Century City Mall, Kalayaan Avenu...   \n",
       "1  Little Tokyo, 2277 Chino Roces Avenue, Legaspi...   \n",
       "2  Edsa Shangri-La, 1 Garden Way, Ortigas, Mandal...   \n",
       "3  Third Floor, Mega Fashion Hall, SM Megamall, O...   \n",
       "4  Third Floor, Mega Atrium, SM Megamall, Ortigas...   \n",
       "\n",
       "                                     Locality  \\\n",
       "0   Century City Mall, Poblacion, Makati City   \n",
       "1  Little Tokyo, Legaspi Village, Makati City   \n",
       "2  Edsa Shangri-La, Ortigas, Mandaluyong City   \n",
       "3      SM Megamall, Ortigas, Mandaluyong City   \n",
       "4      SM Megamall, Ortigas, Mandaluyong City   \n",
       "\n",
       "                                    Locality Verbose   Longitude   Latitude  \\\n",
       "0  Century City Mall, Poblacion, Makati City, Mak...  121.027535  14.565443   \n",
       "1  Little Tokyo, Legaspi Village, Makati City, Ma...  121.014101  14.553708   \n",
       "2  Edsa Shangri-La, Ortigas, Mandaluyong City, Ma...  121.056831  14.581404   \n",
       "3  SM Megamall, Ortigas, Mandaluyong City, Mandal...  121.056475  14.585318   \n",
       "4  SM Megamall, Ortigas, Mandaluyong City, Mandal...  121.057508  14.584450   \n",
       "\n",
       "                           Cuisines  ...          Currency Has Table booking  \\\n",
       "0        French, Japanese, Desserts  ...  Botswana Pula(P)               Yes   \n",
       "1                          Japanese  ...  Botswana Pula(P)               Yes   \n",
       "2  Seafood, Asian, Filipino, Indian  ...  Botswana Pula(P)               Yes   \n",
       "3                   Japanese, Sushi  ...  Botswana Pula(P)                No   \n",
       "4                  Japanese, Korean  ...  Botswana Pula(P)               Yes   \n",
       "\n",
       "  Has Online delivery Is delivering now Switch to order menu Price range  \\\n",
       "0                  No                No                   No           3   \n",
       "1                  No                No                   No           3   \n",
       "2                  No                No                   No           4   \n",
       "3                  No                No                   No           4   \n",
       "4                  No                No                   No           4   \n",
       "\n",
       "   Aggregate rating  Rating color Rating text Votes  \n",
       "0               4.8    Dark Green   Excellent   314  \n",
       "1               4.5    Dark Green   Excellent   591  \n",
       "2               4.4         Green   Very Good   270  \n",
       "3               4.9    Dark Green   Excellent   365  \n",
       "4               4.8    Dark Green   Excellent   229  \n",
       "\n",
       "[5 rows x 21 columns]"
      ]
     },
     "execution_count": 25,
     "metadata": {},
     "output_type": "execute_result"
    }
   ],
   "source": [
    "df = pd.read_csv(\"Dataset .csv\")\n",
    "df.head()"
   ]
  },
  {
   "cell_type": "code",
   "execution_count": 26,
   "id": "6a6246e684488d51",
   "metadata": {
    "ExecuteTime": {
     "end_time": "2025-08-22T07:25:10.851532Z",
     "start_time": "2025-08-22T07:25:10.830305Z"
    }
   },
   "outputs": [
    {
     "data": {
      "text/plain": [
       "Restaurant ID           0\n",
       "Restaurant Name         0\n",
       "Country Code            0\n",
       "City                    0\n",
       "Address                 0\n",
       "Locality                0\n",
       "Locality Verbose        0\n",
       "Longitude               0\n",
       "Latitude                0\n",
       "Cuisines                9\n",
       "Average Cost for two    0\n",
       "Currency                0\n",
       "Has Table booking       0\n",
       "Has Online delivery     0\n",
       "Is delivering now       0\n",
       "Switch to order menu    0\n",
       "Price range             0\n",
       "Aggregate rating        0\n",
       "Rating color            0\n",
       "Rating text             0\n",
       "Votes                   0\n",
       "dtype: int64"
      ]
     },
     "execution_count": 26,
     "metadata": {},
     "output_type": "execute_result"
    }
   ],
   "source": [
    "#Checking any null values\n",
    "df.isnull().sum()"
   ]
  },
  {
   "cell_type": "code",
   "execution_count": 27,
   "id": "d598f046cde2da88",
   "metadata": {
    "ExecuteTime": {
     "end_time": "2025-08-22T07:25:11.892828Z",
     "start_time": "2025-08-22T07:25:11.863983Z"
    }
   },
   "outputs": [
    {
     "data": {
      "text/plain": [
       "Restaurant ID              0\n",
       "Restaurant Name            0\n",
       "Country Code               0\n",
       "City                       0\n",
       "Address                    0\n",
       "Locality                   0\n",
       "Locality Verbose           0\n",
       "Longitude                498\n",
       "Latitude                 498\n",
       "Cuisines                   0\n",
       "Average Cost for two      18\n",
       "Currency                   0\n",
       "Has Table booking          0\n",
       "Has Online delivery        0\n",
       "Is delivering now          0\n",
       "Switch to order menu       0\n",
       "Price range                0\n",
       "Aggregate rating        2148\n",
       "Rating color               0\n",
       "Rating text                0\n",
       "Votes                   1094\n",
       "dtype: int64"
      ]
     },
     "execution_count": 27,
     "metadata": {},
     "output_type": "execute_result"
    }
   ],
   "source": [
    "#Checking any zero values\n",
    "(df ==0).sum()\n"
   ]
  },
  {
   "cell_type": "code",
   "execution_count": 28,
   "id": "10d78b62d3912a4a",
   "metadata": {
    "ExecuteTime": {
     "end_time": "2025-08-22T07:25:13.311063Z",
     "start_time": "2025-08-22T07:25:13.299041Z"
    }
   },
   "outputs": [],
   "source": [
    "#Dealing with Aggregate rating\n",
    "df = df[df['Aggregate rating'] > 0 ]"
   ]
  },
  {
   "cell_type": "code",
   "execution_count": 29,
   "id": "ca0f2c0649b4621b",
   "metadata": {
    "ExecuteTime": {
     "end_time": "2025-08-22T07:25:14.204267Z",
     "start_time": "2025-08-22T07:25:14.190927Z"
    }
   },
   "outputs": [],
   "source": [
    "#Dealing with Average Cost for two\n",
    "df['Average Cost for two'] = df['Average Cost for two'].replace(0,np.nan)\n",
    "df['Average Cost for two'] = pd.to_numeric(\n",
    "    df['Average Cost for two'].replace('[₹,]','',regex=True), errors='coerce')\n",
    "df['Average Cost for two'] = df['Average Cost for two'].fillna(df['Average Cost for two'].median())"
   ]
  },
  {
   "cell_type": "code",
   "execution_count": 30,
   "id": "68a56ea78a1d263",
   "metadata": {
    "ExecuteTime": {
     "end_time": "2025-08-22T07:25:14.987587Z",
     "start_time": "2025-08-22T07:25:14.966032Z"
    }
   },
   "outputs": [],
   "source": [
    "#Dealing with cuisine col with its most frequent val\n",
    "\n",
    "df['Cuisines'] = df['Cuisines'].fillna(df['Cuisines'].mode()[0])\n",
    "\n",
    "df['Price range'] = pd.to_numeric(df['Price range'],errors='coerce')"
   ]
  },
  {
   "cell_type": "code",
   "execution_count": 31,
   "id": "3dc4eee3e421df7b",
   "metadata": {
    "ExecuteTime": {
     "end_time": "2025-08-22T07:25:15.726756Z",
     "start_time": "2025-08-22T07:25:15.711943Z"
    }
   },
   "outputs": [],
   "source": [
    "#Converting yes/no to 1/0\n",
    "df['Has Table booking'] = df['Has Table booking'].map({'Yes':1,'No':0}).astype(int)\n",
    "df['Has Online delivery'] = df['Has Online delivery'].map({'Yes':1,'No':0}).astype(int)"
   ]
  },
  {
   "cell_type": "code",
   "execution_count": 32,
   "id": "f6feaa767bca69d9",
   "metadata": {
    "ExecuteTime": {
     "end_time": "2025-08-22T07:25:16.472886Z",
     "start_time": "2025-08-22T07:25:16.460653Z"
    }
   },
   "outputs": [],
   "source": [
    "#Creating new dataframe for necessary features\n",
    "df_features = df[['Cuisines','Average Cost for two','Price range','Has Table booking','Has Online delivery','City','Aggregate rating']]"
   ]
  },
  {
   "cell_type": "code",
   "execution_count": 33,
   "id": "8cceb3993985ea13",
   "metadata": {
    "ExecuteTime": {
     "end_time": "2025-08-22T07:25:17.209080Z",
     "start_time": "2025-08-22T07:25:17.189894Z"
    }
   },
   "outputs": [
    {
     "data": {
      "text/html": [
       "<div>\n",
       "<style scoped>\n",
       "    .dataframe tbody tr th:only-of-type {\n",
       "        vertical-align: middle;\n",
       "    }\n",
       "\n",
       "    .dataframe tbody tr th {\n",
       "        vertical-align: top;\n",
       "    }\n",
       "\n",
       "    .dataframe thead th {\n",
       "        text-align: right;\n",
       "    }\n",
       "</style>\n",
       "<table border=\"1\" class=\"dataframe\">\n",
       "  <thead>\n",
       "    <tr style=\"text-align: right;\">\n",
       "      <th></th>\n",
       "      <th>Cuisines</th>\n",
       "      <th>Average Cost for two</th>\n",
       "      <th>Price range</th>\n",
       "      <th>Has Table booking</th>\n",
       "      <th>Has Online delivery</th>\n",
       "      <th>City</th>\n",
       "      <th>Aggregate rating</th>\n",
       "    </tr>\n",
       "  </thead>\n",
       "  <tbody>\n",
       "    <tr>\n",
       "      <th>0</th>\n",
       "      <td>French, Japanese, Desserts</td>\n",
       "      <td>1100.0</td>\n",
       "      <td>3</td>\n",
       "      <td>1</td>\n",
       "      <td>0</td>\n",
       "      <td>Makati City</td>\n",
       "      <td>4.8</td>\n",
       "    </tr>\n",
       "    <tr>\n",
       "      <th>1</th>\n",
       "      <td>Japanese</td>\n",
       "      <td>1200.0</td>\n",
       "      <td>3</td>\n",
       "      <td>1</td>\n",
       "      <td>0</td>\n",
       "      <td>Makati City</td>\n",
       "      <td>4.5</td>\n",
       "    </tr>\n",
       "    <tr>\n",
       "      <th>2</th>\n",
       "      <td>Seafood, Asian, Filipino, Indian</td>\n",
       "      <td>4000.0</td>\n",
       "      <td>4</td>\n",
       "      <td>1</td>\n",
       "      <td>0</td>\n",
       "      <td>Mandaluyong City</td>\n",
       "      <td>4.4</td>\n",
       "    </tr>\n",
       "    <tr>\n",
       "      <th>3</th>\n",
       "      <td>Japanese, Sushi</td>\n",
       "      <td>1500.0</td>\n",
       "      <td>4</td>\n",
       "      <td>0</td>\n",
       "      <td>0</td>\n",
       "      <td>Mandaluyong City</td>\n",
       "      <td>4.9</td>\n",
       "    </tr>\n",
       "    <tr>\n",
       "      <th>4</th>\n",
       "      <td>Japanese, Korean</td>\n",
       "      <td>1500.0</td>\n",
       "      <td>4</td>\n",
       "      <td>1</td>\n",
       "      <td>0</td>\n",
       "      <td>Mandaluyong City</td>\n",
       "      <td>4.8</td>\n",
       "    </tr>\n",
       "  </tbody>\n",
       "</table>\n",
       "</div>"
      ],
      "text/plain": [
       "                           Cuisines  Average Cost for two  Price range  \\\n",
       "0        French, Japanese, Desserts                1100.0            3   \n",
       "1                          Japanese                1200.0            3   \n",
       "2  Seafood, Asian, Filipino, Indian                4000.0            4   \n",
       "3                   Japanese, Sushi                1500.0            4   \n",
       "4                  Japanese, Korean                1500.0            4   \n",
       "\n",
       "   Has Table booking  Has Online delivery              City  Aggregate rating  \n",
       "0                  1                    0       Makati City               4.8  \n",
       "1                  1                    0       Makati City               4.5  \n",
       "2                  1                    0  Mandaluyong City               4.4  \n",
       "3                  0                    0  Mandaluyong City               4.9  \n",
       "4                  1                    0  Mandaluyong City               4.8  "
      ]
     },
     "execution_count": 33,
     "metadata": {},
     "output_type": "execute_result"
    }
   ],
   "source": [
    "df_features.head()"
   ]
  },
  {
   "cell_type": "code",
   "execution_count": 34,
   "id": "189b07c771ba616e",
   "metadata": {
    "ExecuteTime": {
     "end_time": "2025-08-22T07:25:18.031055Z",
     "start_time": "2025-08-22T07:25:18.017059Z"
    }
   },
   "outputs": [
    {
     "data": {
      "text/plain": [
       "Cuisines                0\n",
       "Average Cost for two    0\n",
       "Price range             0\n",
       "Has Table booking       0\n",
       "Has Online delivery     0\n",
       "City                    0\n",
       "Aggregate rating        0\n",
       "dtype: int64"
      ]
     },
     "execution_count": 34,
     "metadata": {},
     "output_type": "execute_result"
    }
   ],
   "source": [
    "#Making sure no more null, na values present in the df_features\n",
    "df_features.isna().sum()"
   ]
  },
  {
   "cell_type": "code",
   "execution_count": 35,
   "id": "8621743deab4107f",
   "metadata": {
    "ExecuteTime": {
     "end_time": "2025-08-22T07:25:18.812154Z",
     "start_time": "2025-08-22T07:25:18.796355Z"
    }
   },
   "outputs": [
    {
     "data": {
      "text/plain": [
       "Cuisines                0\n",
       "Average Cost for two    0\n",
       "Price range             0\n",
       "Has Table booking       0\n",
       "Has Online delivery     0\n",
       "City                    0\n",
       "Aggregate rating        0\n",
       "dtype: int64"
      ]
     },
     "execution_count": 35,
     "metadata": {},
     "output_type": "execute_result"
    }
   ],
   "source": [
    "df_features.isnull().sum()"
   ]
  },
  {
   "cell_type": "code",
   "execution_count": 36,
   "id": "e0e729a392defb9a",
   "metadata": {
    "ExecuteTime": {
     "end_time": "2025-08-22T07:25:19.970265Z",
     "start_time": "2025-08-22T07:25:19.593944Z"
    }
   },
   "outputs": [],
   "source": [
    "#Encoding cuisines for similarity\n",
    "from sklearn.feature_extraction.text import CountVectorizer\n",
    "vectorizer = CountVectorizer(stop_words='english')\n",
    "cuisine_matrix = vectorizer.fit_transform(df['Cuisines'].fillna(''))\n"
   ]
  },
  {
   "cell_type": "code",
   "execution_count": 37,
   "id": "8254e6ff6ea88078",
   "metadata": {
    "ExecuteTime": {
     "end_time": "2025-08-22T07:25:20.568942Z",
     "start_time": "2025-08-22T07:25:20.557402Z"
    }
   },
   "outputs": [
    {
     "data": {
      "text/plain": [
       "<Compressed Sparse Row sparse matrix of dtype 'int64'\n",
       "\twith 21937 stored elements and shape (7403, 146)>"
      ]
     },
     "execution_count": 37,
     "metadata": {},
     "output_type": "execute_result"
    }
   ],
   "source": [
    "cuisine_matrix"
   ]
  },
  {
   "cell_type": "code",
   "execution_count": 38,
   "id": "9a384bec23b8cc4f",
   "metadata": {
    "ExecuteTime": {
     "end_time": "2025-08-22T07:25:21.395659Z",
     "start_time": "2025-08-22T07:25:21.379611Z"
    }
   },
   "outputs": [],
   "source": [
    "#Onehot encoding for city\n",
    "from sklearn.preprocessing import OneHotEncoder, StandardScaler\n",
    "\n",
    "city_encoder = OneHotEncoder(handle_unknown='ignore',sparse_output=False)\n",
    "city_encoded = city_encoder.fit_transform(df_features[['City']])"
   ]
  },
  {
   "cell_type": "code",
   "execution_count": 39,
   "id": "2331fe46ba0c6ed0",
   "metadata": {
    "ExecuteTime": {
     "end_time": "2025-08-22T07:25:22.132256Z",
     "start_time": "2025-08-22T07:25:22.113648Z"
    }
   },
   "outputs": [],
   "source": [
    "#Preparing final feature matrix by creating numeric+encoded+cuisines\n",
    "from sklearn.preprocessing import StandardScaler\n",
    "\n",
    "numeric_features = df_features.drop(columns=['Cuisines','City']).reset_index(drop=True)\n",
    "scaler = StandardScaler()\n",
    "numeric_scaled = scaler.fit_transform(numeric_features)\n"
   ]
  },
  {
   "cell_type": "code",
   "execution_count": 40,
   "id": "350c053c6fd60036",
   "metadata": {
    "ExecuteTime": {
     "end_time": "2025-08-22T07:25:22.879591Z",
     "start_time": "2025-08-22T07:25:22.848603Z"
    }
   },
   "outputs": [],
   "source": [
    "\n",
    "#Combining cuisine matri+numeric+encoded features\n",
    "combined_features = np.hstack((cuisine_matrix.toarray(), city_encoded,numeric_scaled))"
   ]
  },
  {
   "cell_type": "code",
   "execution_count": 41,
   "id": "23285362db72090a",
   "metadata": {
    "ExecuteTime": {
     "end_time": "2025-08-22T07:25:23.612342Z",
     "start_time": "2025-08-22T07:25:23.599902Z"
    }
   },
   "outputs": [
    {
     "data": {
      "text/plain": [
       "array([[ 0.        ,  0.        ,  0.        , ...,  2.37978283,\n",
       "        -0.68302371,  2.46302149],\n",
       "       [ 0.        ,  0.        ,  0.        , ...,  2.37978283,\n",
       "        -0.68302371,  1.91969821],\n",
       "       [ 0.        ,  0.        ,  0.        , ...,  2.37978283,\n",
       "        -0.68302371,  1.73859045],\n",
       "       ...,\n",
       "       [ 0.        ,  0.        ,  0.        , ..., -0.42020641,\n",
       "        -0.68302371,  0.47083614],\n",
       "       [ 0.        ,  0.        ,  0.        , ..., -0.42020641,\n",
       "        -0.68302371,  1.01415941],\n",
       "       [ 0.        ,  0.        ,  0.        , ..., -0.42020641,\n",
       "        -0.68302371,  1.01415941]], shape=(7403, 292))"
      ]
     },
     "execution_count": 41,
     "metadata": {},
     "output_type": "execute_result"
    }
   ],
   "source": [
    "combined_features"
   ]
  },
  {
   "cell_type": "code",
   "execution_count": 42,
   "id": "69dcccabf3cdf3d1",
   "metadata": {
    "ExecuteTime": {
     "end_time": "2025-08-22T07:25:24.340101Z",
     "start_time": "2025-08-22T07:25:24.314398Z"
    }
   },
   "outputs": [
    {
     "data": {
      "text/html": [
       "<div>\n",
       "<style scoped>\n",
       "    .dataframe tbody tr th:only-of-type {\n",
       "        vertical-align: middle;\n",
       "    }\n",
       "\n",
       "    .dataframe tbody tr th {\n",
       "        vertical-align: top;\n",
       "    }\n",
       "\n",
       "    .dataframe thead th {\n",
       "        text-align: right;\n",
       "    }\n",
       "</style>\n",
       "<table border=\"1\" class=\"dataframe\">\n",
       "  <thead>\n",
       "    <tr style=\"text-align: right;\">\n",
       "      <th></th>\n",
       "      <th>Average Cost for two</th>\n",
       "      <th>Price range</th>\n",
       "      <th>Has Table booking</th>\n",
       "      <th>Has Online delivery</th>\n",
       "      <th>Aggregate rating</th>\n",
       "    </tr>\n",
       "  </thead>\n",
       "  <tbody>\n",
       "    <tr>\n",
       "      <th>0</th>\n",
       "      <td>1100.0</td>\n",
       "      <td>3</td>\n",
       "      <td>1</td>\n",
       "      <td>0</td>\n",
       "      <td>4.8</td>\n",
       "    </tr>\n",
       "    <tr>\n",
       "      <th>1</th>\n",
       "      <td>1200.0</td>\n",
       "      <td>3</td>\n",
       "      <td>1</td>\n",
       "      <td>0</td>\n",
       "      <td>4.5</td>\n",
       "    </tr>\n",
       "    <tr>\n",
       "      <th>2</th>\n",
       "      <td>4000.0</td>\n",
       "      <td>4</td>\n",
       "      <td>1</td>\n",
       "      <td>0</td>\n",
       "      <td>4.4</td>\n",
       "    </tr>\n",
       "    <tr>\n",
       "      <th>3</th>\n",
       "      <td>1500.0</td>\n",
       "      <td>4</td>\n",
       "      <td>0</td>\n",
       "      <td>0</td>\n",
       "      <td>4.9</td>\n",
       "    </tr>\n",
       "    <tr>\n",
       "      <th>4</th>\n",
       "      <td>1500.0</td>\n",
       "      <td>4</td>\n",
       "      <td>1</td>\n",
       "      <td>0</td>\n",
       "      <td>4.8</td>\n",
       "    </tr>\n",
       "    <tr>\n",
       "      <th>...</th>\n",
       "      <td>...</td>\n",
       "      <td>...</td>\n",
       "      <td>...</td>\n",
       "      <td>...</td>\n",
       "      <td>...</td>\n",
       "    </tr>\n",
       "    <tr>\n",
       "      <th>7398</th>\n",
       "      <td>80.0</td>\n",
       "      <td>3</td>\n",
       "      <td>0</td>\n",
       "      <td>0</td>\n",
       "      <td>4.1</td>\n",
       "    </tr>\n",
       "    <tr>\n",
       "      <th>7399</th>\n",
       "      <td>105.0</td>\n",
       "      <td>3</td>\n",
       "      <td>0</td>\n",
       "      <td>0</td>\n",
       "      <td>4.2</td>\n",
       "    </tr>\n",
       "    <tr>\n",
       "      <th>7400</th>\n",
       "      <td>170.0</td>\n",
       "      <td>4</td>\n",
       "      <td>0</td>\n",
       "      <td>0</td>\n",
       "      <td>3.7</td>\n",
       "    </tr>\n",
       "    <tr>\n",
       "      <th>7401</th>\n",
       "      <td>120.0</td>\n",
       "      <td>4</td>\n",
       "      <td>0</td>\n",
       "      <td>0</td>\n",
       "      <td>4.0</td>\n",
       "    </tr>\n",
       "    <tr>\n",
       "      <th>7402</th>\n",
       "      <td>55.0</td>\n",
       "      <td>2</td>\n",
       "      <td>0</td>\n",
       "      <td>0</td>\n",
       "      <td>4.0</td>\n",
       "    </tr>\n",
       "  </tbody>\n",
       "</table>\n",
       "<p>7403 rows × 5 columns</p>\n",
       "</div>"
      ],
      "text/plain": [
       "      Average Cost for two  Price range  Has Table booking  \\\n",
       "0                   1100.0            3                  1   \n",
       "1                   1200.0            3                  1   \n",
       "2                   4000.0            4                  1   \n",
       "3                   1500.0            4                  0   \n",
       "4                   1500.0            4                  1   \n",
       "...                    ...          ...                ...   \n",
       "7398                  80.0            3                  0   \n",
       "7399                 105.0            3                  0   \n",
       "7400                 170.0            4                  0   \n",
       "7401                 120.0            4                  0   \n",
       "7402                  55.0            2                  0   \n",
       "\n",
       "      Has Online delivery  Aggregate rating  \n",
       "0                       0               4.8  \n",
       "1                       0               4.5  \n",
       "2                       0               4.4  \n",
       "3                       0               4.9  \n",
       "4                       0               4.8  \n",
       "...                   ...               ...  \n",
       "7398                    0               4.1  \n",
       "7399                    0               4.2  \n",
       "7400                    0               3.7  \n",
       "7401                    0               4.0  \n",
       "7402                    0               4.0  \n",
       "\n",
       "[7403 rows x 5 columns]"
      ]
     },
     "execution_count": 42,
     "metadata": {},
     "output_type": "execute_result"
    }
   ],
   "source": [
    "numeric_features"
   ]
  },
  {
   "cell_type": "code",
   "execution_count": 43,
   "id": "a08c6a77d83c1931",
   "metadata": {
    "ExecuteTime": {
     "end_time": "2025-08-22T07:25:25.092270Z",
     "start_time": "2025-08-22T07:25:25.078092Z"
    }
   },
   "outputs": [],
   "source": [
    "df_features = df_features.copy()\n",
    "df_features['Restaurant Name'] = df['Restaurant Name']"
   ]
  },
  {
   "cell_type": "code",
   "execution_count": 44,
   "id": "a98810fa95dc1182",
   "metadata": {
    "ExecuteTime": {
     "end_time": "2025-08-22T07:25:26.023186Z",
     "start_time": "2025-08-22T07:25:26.010037Z"
    }
   },
   "outputs": [
    {
     "data": {
      "text/plain": [
       "['Cuisines',\n",
       " 'Average Cost for two',\n",
       " 'Price range',\n",
       " 'Has Table booking',\n",
       " 'Has Online delivery',\n",
       " 'City',\n",
       " 'Aggregate rating',\n",
       " 'Restaurant Name']"
      ]
     },
     "execution_count": 44,
     "metadata": {},
     "output_type": "execute_result"
    }
   ],
   "source": [
    "df_features.columns.tolist()"
   ]
  },
  {
   "cell_type": "code",
   "execution_count": 45,
   "id": "c7521a7c72f77eee",
   "metadata": {
    "ExecuteTime": {
     "end_time": "2025-08-22T07:25:27.163744Z",
     "start_time": "2025-08-22T07:25:27.142281Z"
    }
   },
   "outputs": [],
   "source": [
    "#Recommendation Function\n",
    "\n",
    "def recommendation_from_preferences(df_features,top_n=5):\n",
    "    #Default values\n",
    "    defaults ={\n",
    "        'city':'Columbus',\n",
    "        'cuisine':'Pizza',\n",
    "        'avg_cost':25,\n",
    "        'price_range':2,\n",
    "        'has_table':0,\n",
    "        'has_online':0,\n",
    "\n",
    "    }\n",
    "\n",
    "    #Getting user inputs\n",
    "    city = input(f\"Enter your Preferred City: (default :{defaults['city']}) \").strip() or defaults['city']\n",
    "    cuisine = input(f\"What would you like to have?: (default :{defaults['cuisine']}) \").strip() or defaults['cuisine']\n",
    "\n",
    "    try:\n",
    "        avg_cost = input(f\"What would be your Average Cost?  (default:{defaults['avg_cost']})\").strip()\n",
    "        avg_cost = int(avg_cost) if avg_cost else defaults['avg_cost']\n",
    "    except:\n",
    "        avg_cost = defaults['avg_cost']\n",
    "\n",
    "    try:\n",
    "        price_range = input(f\"What would be your Price Range? (default:{defaults['price_range']})\").strip()\n",
    "        price_range = int(price_range) if price_range else defaults['price_range']\n",
    "    except:\n",
    "        price_range = defaults['price_range']\n",
    "\n",
    "    try:\n",
    "        has_table = input(f\"Has Table Booking?(Yes:1/No:0) (default:{defaults['has_table']}) )\").strip()\n",
    "        has_table = int(has_table) if has_table else defaults['has_table']\n",
    "    except:\n",
    "        has_table = defaults['has_table']\n",
    "\n",
    "    try:\n",
    "        has_online = input(f\"Has Online Delivery?(Yes:1/No:0) (default:{defaults['has_online']}) \").strip()\n",
    "        has_online = int(has_online) if has_online else defaults['has_online']\n",
    "    except:\n",
    "        has_online = defaults['has_online']\n",
    "\n",
    "\n",
    "    df_features =df_features.copy()\n",
    "    df_features.loc[:,'City'] = df_features['City'].str.strip().str.lower()\n",
    "    df_features.loc[:,'Cuisines'] = df_features['Cuisines'].str.strip().str.lower()\n",
    "    city = city.strip().lower()\n",
    "    cuisine = cuisine.strip().lower()\n",
    "\n",
    "\n",
    "    #Hard Filter\n",
    "    filtered_df = df_features[\n",
    "        (df_features['City'].str.lower() == city.lower()) &\n",
    "        (df_features['Price range'].astype(int) <= price_range) &\n",
    "        (df_features['Has Table booking'] == has_table) &\n",
    "        (df_features['Has Online delivery'] == has_online) &\n",
    "        (df_features['Average Cost for two'] <= avg_cost) &\n",
    "        (df_features['Cuisines'].str.lower().str.strip() == cuisine.lower().strip())\n",
    "    ].copy()\n",
    "    if filtered_df.empty:\n",
    "        print(\"No Exact matches found.Try Changing your preferences.\\n\")\n",
    "        return\n",
    "\n",
    "    #Computing Similarity with real variation\n",
    "    cuisine_match = filtered_df['Cuisines'].apply(lambda x: 1.0 if cuisine in x else 0.5)\n",
    "     # Cost match: linear decay based on difference\n",
    "    cost_diff = abs(filtered_df['Average Cost for two'] - avg_cost)\n",
    "    max_diff = cost_diff.max() if cost_diff.max() != 0 else 1\n",
    "    cost_match = 1 - (cost_diff / (max_diff * 2))  # normalize to 0.5~1.0\n",
    "    cost_match = cost_match.clip(0.5,1.0)\n",
    "\n",
    "\n",
    "    #Fianl Similarity Score with weights\n",
    "    filtered_df['Similarity Score'] =(cuisine_match * 0.6 + cost_match * 0.4) * 5\n",
    "\n",
    "    #Sorting and display\n",
    "    recommendations = filtered_df.sort_values(by='Similarity Score', ascending=False).head(top_n)\n",
    "\n",
    "\n",
    "    #Truncating long strings for neat output\n",
    "    recommendations['Restaurant Name'] = recommendations['Restaurant Name'].str.slice(0,25)\n",
    "    recommendations['Cuisines']= recommendations['Cuisines'].str.slice(0,30)\n",
    "\n",
    "    if recommendations.empty:\n",
    "        print(\"No Recommendations found based on your given preferences. \\n\")\n",
    "    else:\n",
    "        print(\"\\n Top Recommendations:\\n\")\n",
    "        print(recommendations[['Restaurant Name', 'Cuisines', 'Average Cost for two',\n",
    "                               'Has Table booking', 'Price range', 'City','Aggregate rating', 'Similarity Score']]\n",
    "              .to_string(index=False,\n",
    "                         formatters={'Average Cost for two':'{:,.0f}'.format,\n",
    "                                     'Similarity Score':'{:.2f}'.format,\n",
    "                                     'Aggregate rating': '{:.1f}'.format\n",
    "                                     }\n",
    "                         )\n",
    "              )\n"
   ]
  },
  {
   "cell_type": "code",
   "execution_count": 46,
   "id": "606e5b4999dfd7c1",
   "metadata": {
    "ExecuteTime": {
     "end_time": "2025-08-22T07:26:23.211895Z",
     "start_time": "2025-08-22T07:25:27.996456Z"
    }
   },
   "outputs": [
    {
     "name": "stdin",
     "output_type": "stream",
     "text": [
      "Enter your Preferred City: (default :Columbus)  Bhubaneshwar\n",
      "What would you like to have?: (default :Pizza)  North Indian \n",
      "What would be your Average Cost?  (default:25) 300\n",
      "What would be your Price Range? (default:2) 1\n",
      "Has Table Booking?(Yes:1/No:0) (default:0) ) 0\n",
      "Has Online Delivery?(Yes:1/No:0) (default:0)  0\n"
     ]
    },
    {
     "name": "stdout",
     "output_type": "stream",
     "text": [
      "No Exact matches found.Try Changing your preferences.\n",
      "\n"
     ]
    }
   ],
   "source": [
    "recommendation_from_preferences(df_features)"
   ]
  },
  {
   "cell_type": "code",
   "execution_count": 47,
   "id": "f26b4343f962c319",
   "metadata": {
    "ExecuteTime": {
     "end_time": "2025-08-16T08:27:26.936116Z",
     "start_time": "2025-08-16T08:26:38.739405Z"
    }
   },
   "outputs": [
    {
     "name": "stdin",
     "output_type": "stream",
     "text": [
      "Enter your Preferred City: (default :Columbus)  \n",
      "What would you like to have?: (default :Pizza)  \n",
      "What would be your Average Cost?  (default:25) \n",
      "What would be your Price Range? (default:2) \n",
      "Has Table Booking?(Yes:1/No:0) (default:0) ) \n",
      "Has Online Delivery?(Yes:1/No:0) (default:0)  \n"
     ]
    },
    {
     "name": "stdout",
     "output_type": "stream",
     "text": [
      "\n",
      " Top Recommendations:\n",
      "\n",
      "Restaurant Name Cuisines Average Cost for two  Has Table booking  Price range     City Aggregate rating Similarity Score\n",
      "Mellow Mushroom    pizza                   25                  0            2 columbus              4.1             5.00\n"
     ]
    }
   ],
   "source": [
    "recommendation_from_preferences(df_features)"
   ]
  },
  {
   "cell_type": "code",
   "id": "337c8c4219fab798",
   "metadata": {
    "ExecuteTime": {
     "end_time": "2025-08-22T07:46:57.305958Z",
     "start_time": "2025-08-22T07:45:56.664684Z"
    }
   },
   "source": [
    "recommendation_from_preferences(df_features)"
   ],
   "outputs": [
    {
     "name": "stdout",
     "output_type": "stream",
     "text": [
      "\n",
      " Top Recommendations:\n",
      "\n",
      "   Restaurant Name            Cuisines Average Cost for two  Has Table booking  Price range           City Aggregate rating Similarity Score\n",
      " Garota de Ipanema brazilian, bar food                  120                  0            4 rio de janeiro              4.9             5.00\n",
      "Braseiro da G��vea brazilian, bar food                  100                  0            4 rio de janeiro              4.9             4.50\n",
      " Aconchego Carioca brazilian, bar food                   85                  0            3 rio de janeiro              4.6             4.12\n",
      " Garota de Ipanema brazilian, bar food                   80                  0            3 rio de janeiro              4.3             4.00\n"
     ]
    }
   ],
   "execution_count": 53
  },
  {
   "cell_type": "code",
   "execution_count": 52,
   "id": "5e4df021-0e4e-4e21-a17e-fb4ddcc678d4",
   "metadata": {},
   "outputs": [
    {
     "name": "stdin",
     "output_type": "stream",
     "text": [
      "Enter your Preferred City: (default :Columbus)  Rio De Janeiro\n",
      "What would you like to have?: (default :Pizza)  Brazilian\n",
      "What would be your Average Cost?  (default:25) 40\n",
      "What would be your Price Range? (default:2) 2\n",
      "Has Table Booking?(Yes:1/No:0) (default:0) ) 0\n",
      "Has Online Delivery?(Yes:1/No:0) (default:0)  0\n"
     ]
    },
    {
     "name": "stdout",
     "output_type": "stream",
     "text": [
      "\n",
      " Top Recommendations:\n",
      "\n",
      "Restaurant Name  Cuisines Average Cost for two  Has Table booking  Price range           City Aggregate rating Similarity Score\n",
      "     Leme Light brazilian                   40                  0            2 rio de janeiro              4.2             5.00\n"
     ]
    }
   ],
   "source": [
    "recommendation_from_preferences(df_features)\n"
   ]
  },
  {
   "cell_type": "code",
   "execution_count": null,
   "id": "3ce03057-91d3-45a2-a9dc-a43a052ce85a",
   "metadata": {},
   "outputs": [],
   "source": []
  }
 ],
 "metadata": {
  "kernelspec": {
   "display_name": "Python 3 (ipykernel)",
   "language": "python",
   "name": "python3"
  },
  "language_info": {
   "codemirror_mode": {
    "name": "ipython",
    "version": 3
   },
   "file_extension": ".py",
   "mimetype": "text/x-python",
   "name": "python",
   "nbconvert_exporter": "python",
   "pygments_lexer": "ipython3",
   "version": "3.13.5"
  }
 },
 "nbformat": 4,
 "nbformat_minor": 5
}
